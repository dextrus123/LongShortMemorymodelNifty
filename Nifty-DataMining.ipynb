{
 "cells": [
  {
   "cell_type": "code",
   "execution_count": 1,
   "metadata": {},
   "outputs": [],
   "source": [
    "# -*- coding: utf-8 -*-\n",
    "\"\"\"\n",
    "NiftyDataMining.py\n",
    "\n",
    "This is script to load the NSE data, apply technical indicators\n",
    "Moreover, it fetches data of other indices using multiple predefined CSVs and create a single data frame\n",
    "\"\"\"\n",
    "import pandas as pd\n",
    "import gc\n",
    "from talib import RSI, BBANDS, MACD, EMA, STOCH, ADX\n",
    "import matplotlib.pyplot as plt\n",
    "from nsepy import get_history\n",
    "from datetime import date\n"
   ]
  },
  {
   "cell_type": "code",
   "execution_count": 2,
   "metadata": {},
   "outputs": [
    {
     "name": "stdout",
     "output_type": "stream",
     "text": [
      "               Open     High      Low    Close     Volume      Turnover\n",
      "Date                                                                   \n",
      "2004-01-01  1880.35  1917.05  1880.35  1912.25  102551958  2.846700e+10\n",
      "2004-01-02  1912.25  1951.70  1911.05  1946.05  117079420  3.407720e+10\n"
     ]
    }
   ],
   "source": [
    "#this is reference start date before EMA 200 days will fetch null\n",
    "ref_startdate = date(2004,1,1)\n",
    "\n",
    "#actual start date and end date from where the Nifty model to be built\n",
    "startdate = date(2005,1,1)\n",
    "enddate = date(2019,6,21)\n",
    "\n",
    "df=pd.DataFrame(get_history(symbol=\"NIFTY\",start = ref_startdate, end = enddate,index = True))\n",
    "print(df.head(2))"
   ]
  },
  {
   "cell_type": "code",
   "execution_count": 3,
   "metadata": {},
   "outputs": [
    {
     "name": "stdout",
     "output_type": "stream",
     "text": [
      "                Open      High       Low     Close     Volume      Turnover  \\\n",
      "Date                                                                          \n",
      "2019-06-20  11653.65  11843.50  11635.05  11831.75  442016954  1.883911e+11   \n",
      "2019-06-21  11827.60  11827.95  11705.10  11724.10  468430388  2.334613e+11   \n",
      "\n",
      "                 EMA-200       EMA-100        EMA-50        EMA-21  \\\n",
      "Date                                                                 \n",
      "2019-06-20  11202.010736  11459.610876  11665.894631  11791.634812   \n",
      "2019-06-21  11207.205654  11464.848284  11668.177195  11785.495284   \n",
      "\n",
      "                   EMA-5       MACD    macdEMA  macdHistory     RSI-14  \\\n",
      "Date                                                                     \n",
      "2019-06-20  11775.159539  34.006803  66.882723   -32.875920  53.020715   \n",
      "2019-06-21  11758.139693  24.843553  58.474889   -33.631337  48.011949   \n",
      "\n",
      "            BollingerUpperBand  BollingerMiddleBand  BollingerLowerBand  \n",
      "Date                                                                     \n",
      "2019-06-20        11882.455989             11742.03        11601.604011  \n",
      "2019-06-21        11836.725120             11722.19        11607.654880  \n"
     ]
    }
   ],
   "source": [
    "#calculating technical indicators such as EMA-200, EMA-100, EMA-50, EMA-21, EMA-5, MACD, RSI-14, Bollinger Bands\n",
    "EMA_200 = EMA(df['Close'],200)\n",
    "EMA_100 = EMA(df['Close'],100)\n",
    "EMA_50 = EMA(df['Close'],50)\n",
    "EMA_21 = EMA(df['Close'],21)\n",
    "EMA_5 = EMA(df['Close'],5)\n",
    "df['EMA-200']=EMA_200\n",
    "df['EMA-100']=EMA_100\n",
    "df['EMA-50']=EMA_50\n",
    "df['EMA-21']=EMA_21\n",
    "df['EMA-5']=EMA_5\n",
    "df['MACD'], df['macdEMA'], df['macdHistory'] = MACD(df['Close'], fastperiod=12, slowperiod=26, signalperiod=9)\n",
    "df['RSI-14']=RSI(df['Close'],timeperiod=14)\n",
    "df['BollingerUpperBand'], df['BollingerMiddleBand'], df['BollingerLowerBand'] = BBANDS(df['Close'], timeperiod=5, nbdevup=2, nbdevdn=2, matype=0)\n",
    "\n",
    "print(df.tail(2))"
   ]
  },
  {
   "cell_type": "code",
   "execution_count": 4,
   "metadata": {},
   "outputs": [
    {
     "name": "stdout",
     "output_type": "stream",
     "text": [
      "        Date  Brent Crude Price\n",
      "0  21-Jun-19              65.31\n",
      "1  20-Jun-19              64.45\n"
     ]
    }
   ],
   "source": [
    "df.index = (pd.to_datetime(df.index))\n",
    "\n",
    "df= df[startdate:]\n",
    "#Importing Brent Crude price Data from CSV\"\"\"\n",
    "df1=pd.read_csv(\"BrentCrude.csv\")\n",
    "print(df1.head(2))"
   ]
  },
  {
   "cell_type": "code",
   "execution_count": 5,
   "metadata": {},
   "outputs": [
    {
     "name": "stdout",
     "output_type": "stream",
     "text": [
      "           Date      Open      High       Low     Close     Volume  \\\n",
      "3587 2019-06-20  11653.65  11843.50  11635.05  11831.75  442016954   \n",
      "3588 2019-06-21  11827.60  11827.95  11705.10  11724.10  468430388   \n",
      "\n",
      "          Turnover       EMA-200       EMA-100        EMA-50        EMA-21  \\\n",
      "3587  1.883911e+11  11202.010736  11459.610876  11665.894631  11791.634812   \n",
      "3588  2.334613e+11  11207.205654  11464.848284  11668.177195  11785.495284   \n",
      "\n",
      "             EMA-5       MACD    macdEMA  macdHistory     RSI-14  \\\n",
      "3587  11775.159539  34.006803  66.882723   -32.875920  53.020715   \n",
      "3588  11758.139693  24.843553  58.474889   -33.631337  48.011949   \n",
      "\n",
      "      BollingerUpperBand  BollingerMiddleBand  BollingerLowerBand  \\\n",
      "3587        11882.455989             11742.03        11601.604011   \n",
      "3588        11836.725120             11722.19        11607.654880   \n",
      "\n",
      "      Brent Crude Price  \n",
      "3587              64.45  \n",
      "3588              65.31  \n"
     ]
    }
   ],
   "source": [
    "\n",
    "# Convert column name Date from String datatype to Date datatype\"\"\"\n",
    "df1['Date']=pd.to_datetime(df1['Date'])\n",
    "\n",
    "#Sort the Sheet based on Date ascending order. This is one of pre-requisite to merge different dataframe.\n",
    "#Dataframe that has to be merged should be sorted by join columns. In this case, join column is date.\n",
    "#Hence, it is sorted based on Date column\n",
    "df1=df1.sort_values(by=['Date'],ascending=True)\n",
    "df=pd.merge_asof(df,df1,on='Date')\n",
    "print(df.tail(2))"
   ]
  },
  {
   "cell_type": "code",
   "execution_count": 6,
   "metadata": {},
   "outputs": [
    {
     "name": "stdout",
     "output_type": "stream",
     "text": [
      "           Date      Open      High       Low     Close     Volume  \\\n",
      "3587 2019-06-20  11653.65  11843.50  11635.05  11831.75  442016954   \n",
      "3588 2019-06-21  11827.60  11827.95  11705.10  11724.10  468430388   \n",
      "\n",
      "          Turnover       EMA-200       EMA-100        EMA-50    ...      \\\n",
      "3587  1.883911e+11  11202.010736  11459.610876  11665.894631    ...       \n",
      "3588  2.334613e+11  11207.205654  11464.848284  11668.177195    ...       \n",
      "\n",
      "             EMA-5       MACD    macdEMA  macdHistory     RSI-14  \\\n",
      "3587  11775.159539  34.006803  66.882723   -32.875920  53.020715   \n",
      "3588  11758.139693  24.843553  58.474889   -33.631337  48.011949   \n",
      "\n",
      "      BollingerUpperBand  BollingerMiddleBand  BollingerLowerBand  \\\n",
      "3587        11882.455989             11742.03        11601.604011   \n",
      "3588        11836.725120             11722.19        11607.654880   \n",
      "\n",
      "      Brent Crude Price  Dow Price  \n",
      "3587              64.45  26,753.17  \n",
      "3588              65.31  26,719.13  \n",
      "\n",
      "[2 rows x 21 columns]\n"
     ]
    }
   ],
   "source": [
    "# Importing Dow Historical price Data from CSV. And perform similar action like BrentCrude price data\"\"\"\n",
    "df1=pd.read_csv(\"DowHistorical.csv\")\n",
    "df1['Date']=pd.to_datetime(df1['Date'])\n",
    "df1=df1.sort_values(by=['Date'],ascending=True)\n",
    "df=pd.merge_asof(df,df1,on='Date')\n",
    "print(df.tail(2))"
   ]
  },
  {
   "cell_type": "code",
   "execution_count": 7,
   "metadata": {},
   "outputs": [
    {
     "name": "stdout",
     "output_type": "stream",
     "text": [
      "           Date      Open      High       Low     Close     Volume  \\\n",
      "3587 2019-06-20  11653.65  11843.50  11635.05  11831.75  442016954   \n",
      "3588 2019-06-21  11827.60  11827.95  11705.10  11724.10  468430388   \n",
      "\n",
      "          Turnover       EMA-200       EMA-100        EMA-50    ...      \\\n",
      "3587  1.883911e+11  11202.010736  11459.610876  11665.894631    ...       \n",
      "3588  2.334613e+11  11207.205654  11464.848284  11668.177195    ...       \n",
      "\n",
      "             EMA-5       MACD    macdEMA  macdHistory     RSI-14  \\\n",
      "3587  11775.159539  34.006803  66.882723   -32.875920  53.020715   \n",
      "3588  11758.139693  24.843553  58.474889   -33.631337  48.011949   \n",
      "\n",
      "      BollingerUpperBand  BollingerMiddleBand  BollingerLowerBand  \\\n",
      "3587        11882.455989             11742.03        11601.604011   \n",
      "3588        11836.725120             11722.19        11607.654880   \n",
      "\n",
      "      Brent Crude Price  Dow Price  \n",
      "3587              64.45  26,753.17  \n",
      "3588              65.31  26,719.13  \n",
      "\n",
      "[2 rows x 21 columns]\n"
     ]
    }
   ],
   "source": [
    "print(df.tail(2))"
   ]
  },
  {
   "cell_type": "code",
   "execution_count": 8,
   "metadata": {},
   "outputs": [
    {
     "name": "stdout",
     "output_type": "stream",
     "text": [
      "           Date      Open      High       Low     Close     Volume  \\\n",
      "3587 2019-06-20  11653.65  11843.50  11635.05  11831.75  442016954   \n",
      "3588 2019-06-21  11827.60  11827.95  11705.10  11724.10  468430388   \n",
      "\n",
      "          Turnover       EMA-200       EMA-100        EMA-50    ...     \\\n",
      "3587  1.883911e+11  11202.010736  11459.610876  11665.894631    ...      \n",
      "3588  2.334613e+11  11207.205654  11464.848284  11668.177195    ...      \n",
      "\n",
      "           MACD    macdEMA  macdHistory     RSI-14  BollingerUpperBand  \\\n",
      "3587  34.006803  66.882723   -32.875920  53.020715        11882.455989   \n",
      "3588  24.843553  58.474889   -33.631337  48.011949        11836.725120   \n",
      "\n",
      "      BollingerMiddleBand  BollingerLowerBand  Brent Crude Price  Dow Price  \\\n",
      "3587             11742.03        11601.604011              64.45  26,753.17   \n",
      "3588             11722.19        11607.654880              65.31  26,719.13   \n",
      "\n",
      "          FTSE  \n",
      "3587  7,424.44  \n",
      "3588  7,407.50  \n",
      "\n",
      "[2 rows x 22 columns]\n"
     ]
    }
   ],
   "source": [
    "\"\"\" Importing FTSE Historical price Data from CSV. And perform similar action like BrentCrude price data\"\"\"\n",
    "df1=pd.read_csv(\"FTSE_Historical.csv\")\n",
    "df1['Date']=pd.to_datetime(df1['Date'])\n",
    "df1=df1.sort_values(by=['Date'],ascending=True)\n",
    "df=pd.merge_asof(df,df1,on='Date')\n",
    "print(df.tail(2))"
   ]
  },
  {
   "cell_type": "code",
   "execution_count": 9,
   "metadata": {},
   "outputs": [
    {
     "name": "stdout",
     "output_type": "stream",
     "text": [
      "           Date      Open      High       Low     Close     Volume  \\\n",
      "3587 2019-06-20  11653.65  11843.50  11635.05  11831.75  442016954   \n",
      "3588 2019-06-21  11827.60  11827.95  11705.10  11724.10  468430388   \n",
      "\n",
      "          Turnover       EMA-200       EMA-100        EMA-50       ...         \\\n",
      "3587  1.883911e+11  11202.010736  11459.610876  11665.894631       ...          \n",
      "3588  2.334613e+11  11207.205654  11464.848284  11668.177195       ...          \n",
      "\n",
      "        macdEMA  macdHistory     RSI-14  BollingerUpperBand  \\\n",
      "3587  66.882723   -32.875920  53.020715        11882.455989   \n",
      "3588  58.474889   -33.631337  48.011949        11836.725120   \n",
      "\n",
      "      BollingerMiddleBand  BollingerLowerBand  Brent Crude Price  Dow Price  \\\n",
      "3587             11742.03        11601.604011              64.45  26,753.17   \n",
      "3588             11722.19        11607.654880              65.31  26,719.13   \n",
      "\n",
      "          FTSE  Hang Seng Price  \n",
      "3587  7,424.44        28,202.14  \n",
      "3588  7,407.50        28,550.43  \n",
      "\n",
      "[2 rows x 23 columns]\n"
     ]
    }
   ],
   "source": [
    "#Importing Hang Seng Historical price Data from CSV. And perform similar action like BrentCrude price data\"\"\"\n",
    "df1=pd.read_csv(\"HangSeng_Historical.csv\")\n",
    "df1['Date']=pd.to_datetime(df1['Date'])\n",
    "df1=df1.sort_values(by=['Date'],ascending=True)\n",
    "df=pd.merge_asof(df,df1,on='Date')\n",
    "print(df.tail(2))"
   ]
  },
  {
   "cell_type": "code",
   "execution_count": 10,
   "metadata": {},
   "outputs": [
    {
     "name": "stdout",
     "output_type": "stream",
     "text": [
      "           Date      Open      High       Low     Close     Volume  \\\n",
      "3587 2019-06-20  11653.65  11843.50  11635.05  11831.75  442016954   \n",
      "3588 2019-06-21  11827.60  11827.95  11705.10  11724.10  468430388   \n",
      "\n",
      "          Turnover       EMA-200       EMA-100        EMA-50      ...        \\\n",
      "3587  1.883911e+11  11202.010736  11459.610876  11665.894631      ...         \n",
      "3588  2.334613e+11  11207.205654  11464.848284  11668.177195      ...         \n",
      "\n",
      "      macdHistory     RSI-14  BollingerUpperBand  BollingerMiddleBand  \\\n",
      "3587   -32.875920  53.020715        11882.455989             11742.03   \n",
      "3588   -33.631337  48.011949        11836.725120             11722.19   \n",
      "\n",
      "      BollingerLowerBand  Brent Crude Price  Dow Price      FTSE  \\\n",
      "3587        11601.604011              64.45  26,753.17  7,424.44   \n",
      "3588        11607.654880              65.31  26,719.13  7,407.50   \n",
      "\n",
      "      Hang Seng Price  USD-INR price  \n",
      "3587        28,202.14         69.520  \n",
      "3588        28,550.43         69.615  \n",
      "\n",
      "[2 rows x 24 columns]\n"
     ]
    }
   ],
   "source": [
    "#Importing USD_INR Historical price Data from CSV. And perform similar action like BrentCrude price data\"\"\"\n",
    "df1=pd.read_csv(\"USD_INR_Historical.csv\")\n",
    "df1['Date']=pd.to_datetime(df1['Date'])\n",
    "\n",
    "df1=df1.sort_values(by=['Date'],ascending=True)\n",
    "df=pd.merge_asof(df,df1,on='Date')\n",
    "print(df.tail(2))"
   ]
  },
  {
   "cell_type": "code",
   "execution_count": 11,
   "metadata": {},
   "outputs": [
    {
     "name": "stdout",
     "output_type": "stream",
     "text": [
      "           Date      Open      High       Low     Close     Volume  \\\n",
      "3587 2019-06-20  11653.65  11843.50  11635.05  11831.75  442016954   \n",
      "3588 2019-06-21  11827.60  11827.95  11705.10  11724.10  468430388   \n",
      "\n",
      "          Turnover       EMA-200       EMA-100        EMA-50  \\\n",
      "3587  1.883911e+11  11202.010736  11459.610876  11665.894631   \n",
      "3588  2.334613e+11  11207.205654  11464.848284  11668.177195   \n",
      "\n",
      "              ...              RSI-14  BollingerUpperBand  \\\n",
      "3587          ...           53.020715        11882.455989   \n",
      "3588          ...           48.011949        11836.725120   \n",
      "\n",
      "      BollingerMiddleBand  BollingerLowerBand  Brent Crude Price  Dow Price  \\\n",
      "3587             11742.03        11601.604011              64.45  26,753.17   \n",
      "3588             11722.19        11607.654880              65.31  26,719.13   \n",
      "\n",
      "          FTSE  Hang Seng Price  USD-INR price  Volatility Index VIX  \n",
      "3587  7,424.44        28,202.14         69.520                 14.00  \n",
      "3588  7,407.50        28,550.43         69.615                 14.61  \n",
      "\n",
      "[2 rows x 25 columns]\n"
     ]
    }
   ],
   "source": [
    "#Importing India VIX(Volatility Index) Historical Data from CSV. And perform similar action like BrentCrude price data\"\"\"\n",
    "df1=pd.read_csv(\"India VIX Historical Data.csv\")\n",
    "df1['Date']=pd.to_datetime(df1['Date'])\n",
    "\n",
    "df1=df1.sort_values(by=['Date'],ascending=True)\n",
    "df=pd.merge_asof(df,df1,on='Date')\n",
    "print(df.tail(2))"
   ]
  },
  {
   "cell_type": "code",
   "execution_count": 12,
   "metadata": {},
   "outputs": [],
   "source": [
    "\n",
    "df2=pd.read_excel(\"FII-Index.xlsx\")\n",
    "df2['Date']=pd.to_datetime(df2['Date'])\n",
    "#df2.dropna(inplace=True)\n",
    "df2=df2.sort_values(by=['Date'],ascending=True)\n",
    "df=pd.merge_asof(df,df2,on='Date')"
   ]
  },
  {
   "cell_type": "code",
   "execution_count": 13,
   "metadata": {},
   "outputs": [
    {
     "name": "stdout",
     "output_type": "stream",
     "text": [
      "           Date      Open      High       Low     Close     Volume  \\\n",
      "3587 2019-06-20  11653.65  11843.50  11635.05  11831.75  442016954   \n",
      "3588 2019-06-21  11827.60  11827.95  11705.10  11724.10  468430388   \n",
      "\n",
      "          Turnover       EMA-200       EMA-100        EMA-50  \\\n",
      "3587  1.883911e+11  11202.010736  11459.610876  11665.894631   \n",
      "3588  2.334613e+11  11207.205654  11464.848284  11668.177195   \n",
      "\n",
      "            ...          BollingerMiddleBand  BollingerLowerBand  \\\n",
      "3587        ...                     11742.03        11601.604011   \n",
      "3588        ...                     11722.19        11607.654880   \n",
      "\n",
      "      Brent Crude Price  Dow Price      FTSE  Hang Seng Price  USD-INR price  \\\n",
      "3587              64.45  26,753.17  7,424.44        28,202.14         69.520   \n",
      "3588              65.31  26,719.13  7,407.50        28,550.43         69.615   \n",
      "\n",
      "      Volatility Index VIX  FII Index Future Net  FII Index Options  \n",
      "3587                 14.00               -236.99            1075.72  \n",
      "3588                 14.61               -159.71             321.65  \n",
      "\n",
      "[2 rows x 27 columns]\n"
     ]
    }
   ],
   "source": [
    "print(df.tail(2))"
   ]
  },
  {
   "cell_type": "code",
   "execution_count": 14,
   "metadata": {},
   "outputs": [
    {
     "name": "stdout",
     "output_type": "stream",
     "text": [
      "               Open     High      Low    Nifty    Volume      Turnover  \\\n",
      "Date                                                                     \n",
      "2005-01-03  2080.00  2118.60  2080.00  2115.00  70506865  2.375100e+10   \n",
      "2005-01-04  2116.95  2120.15  2100.55  2103.75  72718302  2.416130e+10   \n",
      "\n",
      "                EMA-200      EMA-100       EMA-50     EMA-21  \\\n",
      "Date                                                           \n",
      "2005-01-03  1807.768326  1863.544641  1951.264565  2031.2347   \n",
      "2005-01-04  1810.713417  1868.301183  1957.244386  2037.8270   \n",
      "\n",
      "                  ...         BollingerMiddleBand  BollingerLowerBand  \\\n",
      "Date              ...                                                   \n",
      "2005-01-03        ...                     2079.25         2041.161051   \n",
      "2005-01-04        ...                     2085.73         2044.340649   \n",
      "\n",
      "            Brent Crude Price    Dow Price      FTSE  Hang Seng Price  \\\n",
      "Date                                                                    \n",
      "2005-01-03                NaN  10729.42969       NaN        14,237.42   \n",
      "2005-01-04              41.04  10630.78027  4,847.00        14,045.90   \n",
      "\n",
      "            USD-INR price  Volatility Index VIX  FII Index Future Net  \\\n",
      "Date                                                                    \n",
      "2005-01-03         43.400                 14.08                -57.08   \n",
      "2005-01-04         43.495                 13.98                -11.04   \n",
      "\n",
      "           FII Index Options  \n",
      "Date                          \n",
      "2005-01-03           -102.01  \n",
      "2005-01-04           -337.75  \n",
      "\n",
      "[2 rows x 26 columns]\n"
     ]
    }
   ],
   "source": [
    "df = df.set_index('Date') \n",
    "df.rename(columns={'Close': 'Nifty'}, inplace=True)\n",
    "print(df.head(2))"
   ]
  },
  {
   "cell_type": "code",
   "execution_count": 15,
   "metadata": {},
   "outputs": [
    {
     "name": "stdout",
     "output_type": "stream",
     "text": [
      "              Nifty    Volume      Turnover      EMA-200      EMA-100  \\\n",
      "Date                                                                    \n",
      "2005-01-03  2115.00  70506865  2.375100e+10  1807.768326  1863.544641   \n",
      "2005-01-04  2103.75  72718302  2.416130e+10  1810.713417  1868.301183   \n",
      "\n",
      "                 EMA-50     EMA-21        EMA-5      MACD     RSI-14  \\\n",
      "Date                                                                   \n",
      "2005-01-03  1951.264565  2031.2347  2083.265125  43.08027  78.071485   \n",
      "2005-01-04  1957.244386  2037.8270  2090.093417  43.44056  73.511082   \n",
      "\n",
      "                  ...          BollingerMiddleBand  BollingerLowerBand  \\\n",
      "Date              ...                                                    \n",
      "2005-01-03        ...                      2079.25         2041.161051   \n",
      "2005-01-04        ...                      2085.73         2044.340649   \n",
      "\n",
      "            Brent Crude Price    Dow Price      FTSE Hang Seng Price  \\\n",
      "Date                                                                   \n",
      "2005-01-03                NaN  10729.42969       NaN       14,237.42   \n",
      "2005-01-04              41.04  10630.78027  4,847.00       14,045.90   \n",
      "\n",
      "           USD-INR price  Volatility Index VIX  FII Index Future Net  \\\n",
      "Date                                                                   \n",
      "2005-01-03        43.400                 14.08                -57.08   \n",
      "2005-01-04        43.495                 13.98                -11.04   \n",
      "\n",
      "            FII Index Options  \n",
      "Date                           \n",
      "2005-01-03            -102.01  \n",
      "2005-01-04            -337.75  \n",
      "\n",
      "[2 rows x 21 columns]\n"
     ]
    }
   ],
   "source": [
    "df = df.drop([\"Open\", \"High\", \"Low\", \"macdEMA\", \"macdHistory\"], axis=1)\n",
    "print(df.head(2))\n",
    "\n"
   ]
  },
  {
   "cell_type": "code",
   "execution_count": 16,
   "metadata": {},
   "outputs": [],
   "source": [
    "#Save the mined data in csv format\n",
    "df.to_csv('NSE-Data-new back upcsv.csv')\n"
   ]
  },
  {
   "cell_type": "code",
   "execution_count": 17,
   "metadata": {},
   "outputs": [
    {
     "data": {
      "text/plain": [
       "183695"
      ]
     },
     "execution_count": 17,
     "metadata": {},
     "output_type": "execute_result"
    }
   ],
   "source": [
    "\n",
    "#delete all the variable and free up the space\n",
    "del df, df1, df2, enddate, ref_startdate, startdate\n",
    "gc.collect()"
   ]
  },
  {
   "cell_type": "code",
   "execution_count": null,
   "metadata": {},
   "outputs": [],
   "source": []
  }
 ],
 "metadata": {
  "kernelspec": {
   "display_name": "Python 3",
   "language": "python",
   "name": "python3"
  },
  "language_info": {
   "codemirror_mode": {
    "name": "ipython",
    "version": 3
   },
   "file_extension": ".py",
   "mimetype": "text/x-python",
   "name": "python",
   "nbconvert_exporter": "python",
   "pygments_lexer": "ipython3",
   "version": "3.6.5"
  }
 },
 "nbformat": 4,
 "nbformat_minor": 2
}
